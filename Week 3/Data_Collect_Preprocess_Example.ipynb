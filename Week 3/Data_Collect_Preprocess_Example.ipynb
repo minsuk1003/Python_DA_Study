{
 "cells": [
  {
   "cell_type": "markdown",
   "metadata": {},
   "source": [
    "![image](\"https://image.fmkorea.com/files/attach/new2/20210919/4168377/3377875027/3927002519/99b983892094b5c6d2fc3736e15da7d1.jpg\")"
   ]
  },
  {
   "cell_type": "markdown",
   "metadata": {},
   "source": [
    "## 1 ~ 3번 문제\n",
    "\n",
    "- 주가 데이터 활용"
   ]
  },
  {
   "cell_type": "code",
   "execution_count": null,
   "metadata": {},
   "outputs": [],
   "source": [
    "## "
   ]
  },
  {
   "cell_type": "code",
   "execution_count": null,
   "metadata": {},
   "outputs": [],
   "source": []
  }
 ],
 "metadata": {
  "language_info": {
   "name": "python"
  }
 },
 "nbformat": 4,
 "nbformat_minor": 2
}
