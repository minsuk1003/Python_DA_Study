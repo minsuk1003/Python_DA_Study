{
 "cells": [
  {
   "cell_type": "code",
   "execution_count": 2,
   "metadata": {},
   "outputs": [],
   "source": [
    "import scipy as sp"
   ]
  },
  {
   "cell_type": "code",
   "execution_count": 3,
   "metadata": {},
   "outputs": [
    {
     "data": {
      "text/plain": [
       "BinomTestResult(k=1, n=10, alternative='two-sided', statistic=0.1, pvalue=0.021484375)"
      ]
     },
     "execution_count": 3,
     "metadata": {},
     "output_type": "execute_result"
    }
   ],
   "source": [
    "# 이항검정 : 동전 던지기  \n",
    "# H_0 : 동전을 던지는 행위는 공정하다.\n",
    "# H_A : 동전을 던지는 행위는 공정하지 않다.\n",
    "sp.stats.binomtest(1, 10, 0.5) # 10번 동전 던져 1번 앞면이 나온 상황 -> 유의확률은 0.02로, 이 예시에서는 대립가설을 채택함 "
   ]
  },
  {
   "cell_type": "code",
   "execution_count": 7,
   "metadata": {},
   "outputs": [
    {
     "data": {
      "text/plain": [
       "Power_divergenceResult(statistic=20.37837837837838, pvalue=0.0001416912732116789)"
      ]
     },
     "execution_count": 7,
     "metadata": {},
     "output_type": "execute_result"
    }
   ],
   "source": [
    "# 카이제곱검정 : 주사위 던지기\n",
    "# H_0 : 모든 카테고리의 데이터가 다 같은 횟수를 가질 것이다. (같은 확률값을 가질 것이다)\n",
    "sp.stats.chisquare([10,14,15,35])  # 4개의 카테고리가 각각 10, 14, 15, 35번 발생 -> 대립가설 채택 : 같은 확률을 갖지 않음"
   ]
  },
  {
   "cell_type": "code",
   "execution_count": 13,
   "metadata": {},
   "outputs": [
    {
     "data": {
      "text/plain": [
       "Chi2ContingencyResult(statistic=0.873069498069498, pvalue=0.6462720401664472, dof=2, expected_freq=array([[ 8.33333333, 20.55555556, 31.11111111],\n",
       "       [ 6.66666667, 16.44444444, 24.88888889]]))"
      ]
     },
     "execution_count": 13,
     "metadata": {},
     "output_type": "execute_result"
    }
   ],
   "source": [
    "# 카이제곱 독립검정 : 범주형 변수 간에 상관관계가 있는지 없는지 확인\n",
    "# H_0 : 두 변수간에 상관관계가 존재한다.\n",
    "sp.stats.chi2_contingency([[10,20,30],[5,17,26]]) # 변수 X에서는 10,20,30, 그리고 변수 Y에서는 5,17,26 값을 가짐"
   ]
  },
  {
   "cell_type": "code",
   "execution_count": 14,
   "metadata": {},
   "outputs": [],
   "source": [
    "# 단일표본 Z검정 (One-Sample z-test)\n",
    "# 분산을 정확하게 알고 있는 정규분포의 표본에 대해 기댓값을 조사하는 검정 방법\n",
    "# 많이 사용되지 않음"
   ]
  },
  {
   "cell_type": "code",
   "execution_count": 38,
   "metadata": {},
   "outputs": [
    {
     "data": {
      "text/plain": [
       "TtestResult(statistic=-4.022496474218996, pvalue=0.0030067377547796166, df=9)"
      ]
     },
     "execution_count": 38,
     "metadata": {},
     "output_type": "execute_result"
    }
   ],
   "source": [
    "# 단일표본 t검정 (One-Sample t-test)\n",
    "# 정규분포 표본에 대해 기댓값을 조사하는 검정 방법\n",
    "# H_0 : 빅데이터응용학과 전체 학생들의 키 평균이 180이라고 할 수 있을까?\n",
    "sp.stats.ttest_1samp([158, 159, 164, 164, 169, 173, 174, 178, 178, 180], popmean=180) # p-value는 0.003으로, 대립가설을 채택 : 180이라고 할 수 없음"
   ]
  },
  {
   "cell_type": "code",
   "execution_count": 30,
   "metadata": {},
   "outputs": [
    {
     "data": {
      "text/plain": [
       "TtestResult(statistic=0.40258052415805273, pvalue=0.6977999263887686, df=8.0)"
      ]
     },
     "execution_count": 30,
     "metadata": {},
     "output_type": "execute_result"
    }
   ],
   "source": [
    "# 독립표본 t검정 (Independent two-sample t-test)\n",
    "# 두 개의 독립적인 정규분포에서 나온 변수를 사용하여 두 정규분포의 기댓값이 동일한지 조사하는 검정 방법\n",
    "sp.stats.ttest_ind([1,2,3,4,5],[0.1,0.6,4,4,4]) # p-value는 0.7로, 귀무가설 채택 : 정규분포를 따르는 두 개의 변수의 기댓값이 동일함"
   ]
  },
  {
   "cell_type": "code",
   "execution_count": null,
   "metadata": {},
   "outputs": [],
   "source": []
  }
 ],
 "metadata": {
  "kernelspec": {
   "display_name": "base",
   "language": "python",
   "name": "python3"
  },
  "language_info": {
   "codemirror_mode": {
    "name": "ipython",
    "version": 3
   },
   "file_extension": ".py",
   "mimetype": "text/x-python",
   "name": "python",
   "nbconvert_exporter": "python",
   "pygments_lexer": "ipython3",
   "version": "3.11.6"
  }
 },
 "nbformat": 4,
 "nbformat_minor": 2
}
