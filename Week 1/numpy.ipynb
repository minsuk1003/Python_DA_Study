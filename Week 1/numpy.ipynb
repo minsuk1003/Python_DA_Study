{
 "cells": [
  {
   "cell_type": "code",
   "execution_count": 1,
   "metadata": {},
   "outputs": [],
   "source": [
    "import numpy as np"
   ]
  },
  {
   "cell_type": "markdown",
   "metadata": {},
   "source": [
    "## 1차원 배열, 벡터화 연산"
   ]
  },
  {
   "cell_type": "code",
   "execution_count": 5,
   "metadata": {},
   "outputs": [
    {
     "name": "stdout",
     "output_type": "stream",
     "text": [
      "[20 22 24 26]\n",
      "[100 121 144 169]\n",
      "[ True False  True False]\n"
     ]
    }
   ],
   "source": [
    "ar = np.array([10,11,12,13])\n",
    "\n",
    "print(ar*2)\n",
    "print(ar * ar)\n",
    "print(ar % 2 == 0)"
   ]
  },
  {
   "cell_type": "code",
   "execution_count": 12,
   "metadata": {},
   "outputs": [
    {
     "name": "stdout",
     "output_type": "stream",
     "text": [
      "배열의 차원은 1\n",
      "배열의 형태는 (4,)\n"
     ]
    }
   ],
   "source": [
    "print(f\"배열의 차원은 {ar.ndim}\")\n",
    "print(f\"배열의 형태는 {ar.shape}\")"
   ]
  },
  {
   "cell_type": "markdown",
   "metadata": {},
   "source": [
    "## 2차원 배열 - 슬라이싱, 인덱싱"
   ]
  },
  {
   "cell_type": "code",
   "execution_count": 23,
   "metadata": {},
   "outputs": [
    {
     "name": "stdout",
     "output_type": "stream",
     "text": [
      "[[ 0  1  2  3]\n",
      " [ 4  5  6  7]\n",
      " [ 8  9 10 11]]\n",
      "5\n",
      "10\n",
      "[ 2  6 10]\n",
      "[ 0  2  4  6  8 10]\n"
     ]
    }
   ],
   "source": [
    "mat = np.array([[0,1,2,3],[4,5,6,7],[8,9,10,11]])\n",
    "print(mat)\n",
    "print(mat[1,1])\n",
    "print(mat[-1,-2])\n",
    "print(mat[:,2])\n",
    "print(mat[mat % 2 == 0])"
   ]
  },
  {
   "cell_type": "code",
   "execution_count": 24,
   "metadata": {},
   "outputs": [
    {
     "name": "stdout",
     "output_type": "stream",
     "text": [
      "배열의 차원은 2\n",
      "배열의 형태는 (3, 4)\n",
      "int32\n"
     ]
    }
   ],
   "source": [
    "print(f\"배열의 차원은 {mat.ndim}\")\n",
    "print(f\"배열의 형태는 {mat.shape}\")\n",
    "print(mat.dtype)"
   ]
  },
  {
   "cell_type": "markdown",
   "metadata": {},
   "source": [
    "## 배열의 변형"
   ]
  },
  {
   "cell_type": "code",
   "execution_count": 34,
   "metadata": {},
   "outputs": [
    {
     "name": "stdout",
     "output_type": "stream",
     "text": [
      "[[1. 1. 1.]\n",
      " [1. 1. 1.]]\n",
      "[ 5  6  7  8  9 10 11 12 13 14]\n",
      "[  0.   12.5  25.   37.5  50.   62.5  75.   87.5 100. ]\n"
     ]
    }
   ],
   "source": [
    "print(np.ones((2,3)))\n",
    "print(np.arange(5,15))\n",
    "print(np.linspace(0,100,9))"
   ]
  },
  {
   "cell_type": "code",
   "execution_count": 46,
   "metadata": {},
   "outputs": [
    {
     "name": "stdout",
     "output_type": "stream",
     "text": [
      "[[0 1 2 3 4]\n",
      " [5 6 7 8 9]]\n",
      "[[0 1]\n",
      " [2 3]\n",
      " [4 5]\n",
      " [6 7]\n",
      " [8 9]]\n",
      "[0 1 2 3 4 5 6 7 8 9]\n"
     ]
    }
   ],
   "source": [
    "a = np.arange(10)\n",
    "print(a.reshape(2,5))\n",
    "print(a.reshape(5,-1))\n",
    "print(a.flatten())"
   ]
  },
  {
   "cell_type": "code",
   "execution_count": 54,
   "metadata": {},
   "outputs": [
    {
     "name": "stdout",
     "output_type": "stream",
     "text": [
      "[0. 1. 2. 3. 4. 5. 6. 7. 8. 9. 1. 1. 1. 1. 1. 1. 1. 1. 1. 1.]\n",
      "[[0. 1. 2. 3. 4. 5. 6. 7. 8. 9.]\n",
      " [1. 1. 1. 1. 1. 1. 1. 1. 1. 1.]]\n",
      "[[[0. 1.]\n",
      "  [1. 1.]\n",
      "  [2. 1.]\n",
      "  [3. 1.]\n",
      "  [4. 1.]\n",
      "  [5. 1.]\n",
      "  [6. 1.]\n",
      "  [7. 1.]\n",
      "  [8. 1.]\n",
      "  [9. 1.]]]\n"
     ]
    }
   ],
   "source": [
    "b = np.ones(10)\n",
    "print(np.hstack([a,b]))\n",
    "print(np.vstack([a,b]))\n",
    "print(np.dstack([a,b]))"
   ]
  },
  {
   "cell_type": "markdown",
   "metadata": {},
   "source": [
    "## 배열의 연산"
   ]
  },
  {
   "cell_type": "code",
   "execution_count": 70,
   "metadata": {},
   "outputs": [
    {
     "name": "stdout",
     "output_type": "stream",
     "text": [
      "[ 5  7  9 11 13]\n",
      "[-1  0  1  2  3]\n",
      "CPU times: total: 15.6 ms\n",
      "Wall time: 1.99 ms\n"
     ]
    }
   ],
   "source": [
    "%%time\n",
    "a = np.arange(5)\n",
    "b = np.arange(5,10)\n",
    "print(a + b)\n",
    "print(a - 1)"
   ]
  },
  {
   "cell_type": "markdown",
   "metadata": {},
   "source": [
    "## 정렬"
   ]
  },
  {
   "cell_type": "code",
   "execution_count": 75,
   "metadata": {},
   "outputs": [
    {
     "name": "stdout",
     "output_type": "stream",
     "text": [
      "[[13 15 23 51]\n",
      " [21 23 31 33]\n",
      " [12 32 42 43]]\n",
      "[[21 12 15 31]\n",
      " [23 13 23 32]\n",
      " [42 33 43 51]]\n",
      "[[1 2 0 3]\n",
      " [0 2 3 1]\n",
      " [1 3 0 2]]\n"
     ]
    }
   ],
   "source": [
    "matrix = np.array(\n",
    "    [\n",
    "        [23,13,15,51],[21,33,23,31], [42,12,43,32]\n",
    "    ]\n",
    ")\n",
    "print(np.sort(matrix))\n",
    "print(np.sort(matrix, axis=0))\n",
    "print(np.argsort(matrix))"
   ]
  }
 ],
 "metadata": {
  "kernelspec": {
   "display_name": "base",
   "language": "python",
   "name": "python3"
  },
  "language_info": {
   "codemirror_mode": {
    "name": "ipython",
    "version": 3
   },
   "file_extension": ".py",
   "mimetype": "text/x-python",
   "name": "python",
   "nbconvert_exporter": "python",
   "pygments_lexer": "ipython3",
   "version": "3.10.9"
  }
 },
 "nbformat": 4,
 "nbformat_minor": 2
}
