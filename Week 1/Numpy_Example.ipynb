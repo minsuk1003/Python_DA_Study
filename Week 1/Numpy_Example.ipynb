{
 "cells": [
  {
   "cell_type": "code",
   "execution_count": 18,
   "metadata": {},
   "outputs": [],
   "source": [
    "import numpy as np"
   ]
  },
  {
   "cell_type": "markdown",
   "metadata": {},
   "source": [
    "### 1. 넘파이를 사용하여 다음과 같은 행렬을 만들고, 이 배열에서 값 70을 인덱싱하세요.  (3.1 - 연습문제 1 변형)\n",
    "10 20 30 40 <br>\n",
    "50 60 70 80 <br>"
   ]
  },
  {
   "cell_type": "code",
   "execution_count": 3,
   "metadata": {},
   "outputs": [
    {
     "name": "stdout",
     "output_type": "stream",
     "text": [
      "70 70\n"
     ]
    }
   ],
   "source": [
    "# 밑에 코드 작성\n",
    "arr1 = np.array([[10,20,30,40],[50,60,70,80]])\n",
    "print(arr1[1,2], arr1[1][2])"
   ]
  },
  {
   "cell_type": "markdown",
   "metadata": {},
   "source": [
    "### 2. 다음 배열은 첫번째 행(row)에 학번, 두번째 행에 영어 성적, 세번째 행에 수학 성적을 적은 배열이다. 영어 성적을 기준으로 각 열(column)을 재정렬하라. (연습문제 3.3.2)"
   ]
  },
  {
   "cell_type": "code",
   "execution_count": 28,
   "metadata": {},
   "outputs": [
    {
     "data": {
      "text/plain": [
       "array([[  1,   4,   2,   3],\n",
       "       [ 46,  71,  99, 100],\n",
       "       [ 81, 100,  59,  90]])"
      ]
     },
     "execution_count": 28,
     "metadata": {},
     "output_type": "execute_result"
    }
   ],
   "source": [
    "v = np.array([[  1,    2,    3,    4],\n",
    "       [ 46,   99,  100,   71],\n",
    "       [ 81,   59,   90,  100]])\n",
    "\n",
    "# 밑에 코드 작성\n",
    "eng_rank = np.argsort(v[1])\n",
    "eng_rank\n",
    "v[:,[0,3,1,2]]"
   ]
  },
  {
   "cell_type": "markdown",
   "metadata": {},
   "source": [
    "### 3. 코사인 유사도 함수 구현하기"
   ]
  },
  {
   "cell_type": "code",
   "execution_count": 31,
   "metadata": {},
   "outputs": [],
   "source": [
    "def cos_sim(A,B):\n",
    "    # 밑에 코드 작성\n",
    "    return np.dot(A,B) / (np.linalg.norm(A) * np.linalg.norm(B))"
   ]
  },
  {
   "cell_type": "code",
   "execution_count": 32,
   "metadata": {},
   "outputs": [
    {
     "data": {
      "text/plain": [
       "0.67"
      ]
     },
     "execution_count": 32,
     "metadata": {},
     "output_type": "execute_result"
    }
   ],
   "source": [
    "# Test\n",
    "doc1 = np.array([0,1,1,1])\n",
    "doc2 = np.array([1,0,1,1])\n",
    "result = round(cos_sim(doc1, doc2),2)\n",
    "result"
   ]
  },
  {
   "cell_type": "markdown",
   "metadata": {},
   "source": [
    "- 정답 : 0.67"
   ]
  },
  {
   "cell_type": "markdown",
   "metadata": {},
   "source": [
    "## 4,5번 문제 : 붓꽃 데이터 활용 "
   ]
  },
  {
   "cell_type": "markdown",
   "metadata": {},
   "source": [
    "### 4. 붓꽃들의 변수별 가중치를 통해 전체 붓꽃 가중평균 구하기\n",
    "\n",
    "- 변수별 가중치\n",
    "    - 꽃받침의 길이 : 0.3, 꽃받침의 폭 : 0.2, 꽃잎의 길이 : 0.25, 꽃잎의 폭 : 0.25"
   ]
  },
  {
   "cell_type": "code",
   "execution_count": 38,
   "metadata": {},
   "outputs": [
    {
     "data": {
      "text/plain": [
       "3.6038"
      ]
     },
     "execution_count": 38,
     "metadata": {},
     "output_type": "execute_result"
    }
   ],
   "source": [
    "from sklearn.datasets import load_iris\n",
    "\n",
    "iris = load_iris() # 붓꽃 데이터 로드\n",
    "X = iris.data\n",
    "\n",
    "def weighted_average(data):\n",
    "    \n",
    "    # 밑에 코드 작성\n",
    "    weight = [0.3,0.2,0.25,0.25]\n",
    "    return np.dot(data, weight).mean()\n",
    "\n",
    "result = weighted_average(X)\n",
    "result"
   ]
  },
  {
   "cell_type": "markdown",
   "metadata": {},
   "source": [
    "- 정답 <br>\n",
    "3.6038"
   ]
  },
  {
   "cell_type": "markdown",
   "metadata": {},
   "source": [
    "### 5. 붓꽃들의 각 변수별 기술통계량 구하기 : 평균, 중앙값, 표준편차\n",
    "\n",
    "- 소수점 둘째자리까지\n",
    "- 2차원 리스트의 형태로 반환\n",
    "    - [[변수 1의 평균, 변수 1의 중앙값, 변수 1의 표준편차], ..., [변수 4의 평균, 변수 4의 중앙값, 변수 4의 표준편차]]"
   ]
  },
  {
   "cell_type": "code",
   "execution_count": 60,
   "metadata": {},
   "outputs": [
    {
     "data": {
      "text/plain": [
       "array([[5.84, 5.8 , 0.83],\n",
       "       [3.06, 3.  , 0.43],\n",
       "       [3.76, 4.35, 1.76],\n",
       "       [1.2 , 1.3 , 0.76]])"
      ]
     },
     "execution_count": 60,
     "metadata": {},
     "output_type": "execute_result"
    }
   ],
   "source": [
    "def stats(X):\n",
    "\n",
    "    # 밑에 코드 작성\n",
    "    stats = np.column_stack((\n",
    "        np.mean(X, axis=0), np.median(X, axis=0), np.std(X, axis=0)\n",
    "    ))\n",
    "\n",
    "    stats = np.round(stats, 2)\n",
    "    return stats\n",
    "\n",
    "result = stats(X)\n",
    "result\n",
    "\n"
   ]
  },
  {
   "cell_type": "markdown",
   "metadata": {},
   "source": [
    "- 정답 <br>\n",
    "[[5.84, 5.8, 0.83], [3.06, 3.0, 0.43], [3.76, 4.35, 1.76], [1.2, 1.3, 0.76]]"
   ]
  },
  {
   "cell_type": "markdown",
   "metadata": {},
   "source": [
    "- numpy 공홈 : https://numpy.org/\n",
    "- numpy ex100 : https://github.com/rougier/numpy-100/blob/master/100_Numpy_exercises.ipynb"
   ]
  }
 ],
 "metadata": {
  "kernelspec": {
   "display_name": "base",
   "language": "python",
   "name": "python3"
  },
  "language_info": {
   "codemirror_mode": {
    "name": "ipython",
    "version": 3
   },
   "file_extension": ".py",
   "mimetype": "text/x-python",
   "name": "python",
   "nbconvert_exporter": "python",
   "pygments_lexer": "ipython3",
   "version": "3.10.9"
  }
 },
 "nbformat": 4,
 "nbformat_minor": 2
}
